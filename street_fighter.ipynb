{
 "cells": [
  {
   "cell_type": "markdown",
   "id": "22a09336",
   "metadata": {},
   "source": [
    "# Setup StreetFighter"
   ]
  },
  {
   "cell_type": "code",
   "execution_count": null,
   "id": "eca0f39f",
   "metadata": {},
   "outputs": [],
   "source": [
    "import retro\n",
    "import time\n",
    "import matplotlib.pyplot as plt\n",
    "from tqdm import tqdm\n",
    "from itertools import cycle"
   ]
  },
  {
   "cell_type": "code",
   "execution_count": null,
   "id": "b558bfa4",
   "metadata": {
    "scrolled": true
   },
   "outputs": [],
   "source": [
    "# see all the available game\n",
    "retro.data.list_games()"
   ]
  },
  {
   "cell_type": "code",
   "execution_count": null,
   "id": "d265db30",
   "metadata": {},
   "outputs": [],
   "source": [
    "# python -m retro.import, use this in command in the rom folder"
   ]
  },
  {
   "cell_type": "code",
   "execution_count": null,
   "id": "4e14d37a",
   "metadata": {},
   "outputs": [],
   "source": [
    "# use this command because it cant run parallel and will cause an error\n",
    "env.close() "
   ]
  },
  {
   "cell_type": "code",
   "execution_count": null,
   "id": "0b5290fd",
   "metadata": {},
   "outputs": [],
   "source": [
    "# sample the observation space\n",
    "env.observation_space.sample()\n"
   ]
  },
  {
   "cell_type": "code",
   "execution_count": null,
   "id": "49720b88",
   "metadata": {},
   "outputs": [],
   "source": [
    "# sample the actions that are available - Multibinary\n",
    "env.action_space.sample()"
   ]
  },
  {
   "cell_type": "code",
   "execution_count": null,
   "id": "67d44e8a",
   "metadata": {
    "scrolled": false
   },
   "outputs": [],
   "source": [
    "# reset game to starting state\n",
    "obs = env.reset()\n",
    "# flag indicating whether died/finished or not\n",
    "done = False\n",
    "\n",
    "\n",
    "# how many games to play\n",
    "for game in range(1):\n",
    "    # until not dead/finished\n",
    "    while not done:\n",
    "        if done:\n",
    "            obs = env.reset()\n",
    "        env.render()\n",
    "        # while not done, render our game, and add information to env.step\n",
    "        obs, reward, done, info = env.step(env.action_space.sample())\n"
   ]
  },
  {
   "cell_type": "markdown",
   "id": "0a5d4d64",
   "metadata": {},
   "source": [
    "# Setup Environment"
   ]
  },
  {
   "cell_type": "code",
   "execution_count": null,
   "id": "3d5995b4",
   "metadata": {},
   "outputs": [],
   "source": [
    "from gym import Env\n",
    "\n",
    "# import for shape changer\n",
    "from gym.spaces import MultiBinary, Box\n",
    "\n",
    "# import numpy for frame delta\n",
    "import numpy as np\n",
    "\n",
    "# import cv for gray-scale\n",
    "import cv2\n",
    "\n",
    "from matplotlib import pyplot as plt\n",
    "\n",
    "# create custom environment\n",
    "class StreetFighter(Env):\n",
    "    def __init__(self):\n",
    "        super().__init__()\n",
    "        # reduce the observation space to smaller pixel\n",
    "        self.observation_space = Box(low=0, high=255, shape=(84, 84, 1), dtype=np.uint8)\n",
    "        self.action_space = MultiBinary(12)\n",
    "        self.game = retro.make(\n",
    "            game=\"StreetFighterIISpecialChampionEdition-Genesis\",\n",
    "            use_restricted_actions=retro.Actions.FILTERED, # only does actions that are within the game button\n",
    "            state = \"ryuvsryu\" # initial state is ryu vs ryu\n",
    "        )    \n",
    "        \n",
    "    def reset(self):\n",
    "        # return first frame\n",
    "        obs = self.game.reset()\n",
    "        obs = self.preprocess(obs)\n",
    "        self.enemy_health = 176\n",
    "        self.health = 176\n",
    "        self.left_over_enemy_health = 0\n",
    "        self.left_over_health = 0\n",
    "        self.consecutive_attacks = 0\n",
    "        self.enemy_consecutive_attacks = 0\n",
    "        return obs\n",
    "\n",
    "    def step(self, action):\n",
    "        # passes unprocessed obs, reward and takes a step\n",
    "        obs, reward, done, info = self.game.step(action)\n",
    "        obs = self.preprocess(obs)\n",
    "\n",
    "        # reward for damage given, penalty for damage taken\n",
    "        # extra reward for consecutive attacks, extra penalty for consecutive enemy attack\n",
    "        # health starts at 176, if dead, goes to -1, then 0, then 176\n",
    "        if info[\"enemy_health\"] == 176 and info[\"health\"] == 176:\n",
    "            self.enemy_health = 176\n",
    "            self.health = 176\n",
    "            self.left_over_enemy_health = 0\n",
    "            self.left_over_health = 0\n",
    "            self.consecutive_attacks = 0\n",
    "            self.enemy_consecutive_attacks = 0\n",
    "\n",
    "        elif (info[\"enemy_health\"] > 0 and info[\"health\"] > 0) and (\n",
    "            info[\"enemy_health\"] < 176 or info[\"health\"] < 176\n",
    "        ):\n",
    "            enemy_health_reward = self.enemy_health - info[\"enemy_health\"]\n",
    "            health_penalty = self.health - info[\"health\"]\n",
    "            if enemy_health_reward - health_penalty > 0:\n",
    "                self.consecutive_attacks += 1\n",
    "                self.enemy_consecutive_attacks = 0\n",
    "                if self.consecutive_attacks > 1:\n",
    "                    reward = (\n",
    "                        enemy_health_reward\n",
    "                        - health_penalty\n",
    "                        + (\n",
    "                            5\n",
    "                            * (\n",
    "                                self.consecutive_attacks\n",
    "                                - self.enemy_consecutive_attacks\n",
    "                            )\n",
    "                        )\n",
    "                    )\n",
    "                else:\n",
    "                    reward = enemy_health_reward - health_penalty\n",
    "\n",
    "            elif enemy_health_reward - health_penalty < 0:\n",
    "                self.consecutive_attacks = 0\n",
    "                self.enemy_consecutive_attacks += 1\n",
    "                if self.enemy_consecutive_attacks > 1:\n",
    "                    reward = (\n",
    "                        enemy_health_reward\n",
    "                        - health_penalty\n",
    "                        + (\n",
    "                            5\n",
    "                            * (\n",
    "                                self.consecutive_attacks\n",
    "                                - self.enemy_consecutive_attacks\n",
    "                            )\n",
    "                        )\n",
    "                    )\n",
    "                else:\n",
    "                    reward = enemy_health_reward - health_penalty\n",
    "\n",
    "            else:\n",
    "                reward = enemy_health_reward - health_penalty\n",
    "\n",
    "            self.enemy_health = info[\"enemy_health\"]\n",
    "            self.health = info[\"health\"]\n",
    "\n",
    "        elif info[\"enemy_health\"] < 0:\n",
    "            left_over_health = info[\"health\"] - self.left_over_health\n",
    "            enemy_health_reward = self.enemy_health - info[\"enemy_health\"]\n",
    "            self.consecutive_attacks += 1\n",
    "            self.enemy_consecutive_attacks = 0\n",
    "            if self.consecutive_attacks > 1:\n",
    "                reward = (\n",
    "                    left_over_health\n",
    "                    + enemy_health_reward\n",
    "                    + (5 * (self.consecutive_attacks - self.enemy_consecutive_attacks))\n",
    "                )\n",
    "            else:\n",
    "                reward = left_over_health + enemy_health_reward\n",
    "            self.enemy_health = info[\"enemy_health\"]\n",
    "            self.left_over_health = info[\"health\"]\n",
    "            self.consecutive_attacks = 0\n",
    "            self.enemy_consecutive_attacks = 0\n",
    "\n",
    "        elif info[\"health\"] < 0:\n",
    "            left_over_enemy_health = info[\"enemy_health\"] - self.left_over_enemy_health\n",
    "            health_penalty = self.health - info[\"health\"]\n",
    "            self.consecutive_attacks = 0\n",
    "            self.enemy_consecutive_attacks += 1\n",
    "            if self.enemy_consecutive_attacks > 1:\n",
    "                reward = -(\n",
    "                    left_over_enemy_health\n",
    "                    + health_penalty\n",
    "                    + (5 * (self.enemy_consecutive_attacks - self.consecutive_attacks))\n",
    "                )\n",
    "            else:\n",
    "                reward = -(left_over_enemy_health + health_penalty)\n",
    "            self.health = info[\"health\"]\n",
    "            self.left_over_enemy_health = info[\"enemy_health\"]\n",
    "            self.consecutive_attacks = 0\n",
    "            self.enemy_consecutive_attacks = 0\n",
    "\n",
    "        else:\n",
    "            reward = 0\n",
    "\n",
    "        self.enemy_health = info[\"enemy_health\"]\n",
    "        self.health = info[\"health\"]\n",
    "\n",
    "        return obs, reward, done, info\n",
    "\n",
    "    def preprocess(self, observation):\n",
    "        # gray-scaling\n",
    "        gray = cv2.cvtColor(observation, cv2.COLOR_BGR2GRAY)\n",
    "        # resize\n",
    "        resize = cv2.resize(gray, (84, 84), interpolation=cv2.INTER_CUBIC)\n",
    "        channels = np.reshape(resize, (84, 84, 1))\n",
    "        return channels\n",
    "\n",
    "    def render(self, *arg, **kwargs):\n",
    "        self.game.render()\n",
    "\n",
    "    def close(self):\n",
    "        self.game.close()"
   ]
  },
  {
   "cell_type": "code",
   "execution_count": null,
   "id": "5b9b1501",
   "metadata": {},
   "outputs": [],
   "source": [
    "env.close()"
   ]
  },
  {
   "cell_type": "code",
   "execution_count": null,
   "id": "ff52c630",
   "metadata": {},
   "outputs": [],
   "source": [
    "env = StreetFighter()\n"
   ]
  },
  {
   "cell_type": "markdown",
   "id": "f1b01601",
   "metadata": {},
   "source": [
    "# Hyperparameter Tuning"
   ]
  },
  {
   "cell_type": "code",
   "execution_count": null,
   "id": "45f7e403",
   "metadata": {},
   "outputs": [],
   "source": [
    "# Import optuna for HPO optimization frame\n",
    "import optuna\n",
    "# Import PPO for algos\n",
    "from stable_baselines3 import PPO, A2C\n",
    "# Evaluate Policy\n",
    "from stable_baselines3.common.evaluation import evaluate_policy\n",
    "# Import the sb3 monitor for logging to access rewards\n",
    "from stable_baselines3.common.monitor import Monitor\n",
    "# import wrappers\n",
    "from stable_baselines3.common.vec_env import DummyVecEnv, VecFrameStack\n",
    "import os\n"
   ]
  },
  {
   "cell_type": "code",
   "execution_count": null,
   "id": "ca2e4e7e",
   "metadata": {},
   "outputs": [],
   "source": [
    "# save model and reload without retraining\n",
    "LOG_DIR = './logs/'\n",
    "OPT_DIR = './opt/'\n"
   ]
  },
  {
   "cell_type": "code",
   "execution_count": null,
   "id": "352c6009",
   "metadata": {},
   "outputs": [],
   "source": [
    "# function to return hyperparameters - define objective function\n",
    "# ppo hyperparameters to tune\n",
    "# n_steps = batch size (frame) factor of 64\n",
    "# gamma = discount rate for calculating returns\n",
    "# learning rate = learning coefficient for optimizier\n",
    "# clip_range = clipping amount for advantage calc\n",
    "# gae_lambda = advantage smooth parameter\n",
    "\n",
    "def optimize_ppo(trial):\n",
    "    return {\n",
    "        'n_steps': trial.suggest_int('n_steps', 0, 256),\n",
    "        'gamma': trial.suggest_loguniform('gamma', 0.8, 0.9999),\n",
    "        'learning_rate': trial.suggest_loguniform('learning_rate', 1e-8, 1e-6),\n",
    "        'clip_range': trial.suggest_uniform('clip_range', 0.1, 0.3),\n",
    "        'gae_lambda': trial.suggest_uniform('gae_lambda', 0.8, .99)\n",
    "    }\n"
   ]
  },
  {
   "cell_type": "code",
   "execution_count": null,
   "id": "d20bfbe4",
   "metadata": {},
   "outputs": [],
   "source": [
    "# function to return hyperparameters - define objective function\n",
    "# ppo hyperparameters to tune\n",
    "# n_steps = batch size (frame) factor of 64\n",
    "# gamma = discount rate for calculating returns\n",
    "# learning rate = learning coefficient for optimizier\n",
    "# clip_range = clipping amount for advantage calc\n",
    "# gae_lambda = advantage smooth parameter\n",
    "\n",
    "\n",
    "def optimize_a2c(trial):\n",
    "    return {\n",
    "        \"n_steps\": trial.suggest_int(\"n_steps\", 0, 128),\n",
    "        \"gamma\": trial.suggest_loguniform(\"gamma\", 0.8, 0.9999),\n",
    "        \"learning_rate\": trial.suggest_loguniform(\"learning_rate\", 1e-5, 1e-3),\n",
    "        \"gae_lambda\": trial.suggest_uniform(\"gae_lambda\", 0.8, 0.99),\n",
    "        \"ent_coef\": trial.suggest_uniform(\"ent_coef\", 0, 0),\n",
    "        \"vf_coef\": trial.suggest_uniform(\"vf_coef\", 0.5, 0.5),\n",
    "        \"max_grad_norm\": trial.suggest_uniform(\"max_grad_norm\", 0.5, 0.5),\n",
    "        \"rms_prop_eps\": trial.suggest_uniform(\"rms_prop_eps\", 1e-05, 1e-05),\n",
    "    }"
   ]
  },
  {
   "cell_type": "code",
   "execution_count": null,
   "id": "5a038abe",
   "metadata": {},
   "outputs": [],
   "source": [
    "def optimize_agent(trial):\n",
    "    # change model_params based on PPO or A2C\n",
    "    model_params = optimize_a2c(trial)\n",
    "    env = StreetFighter()\n",
    "    env = Monitor(env, LOG_DIR)\n",
    "    env = DummyVecEnv([lambda: env])\n",
    "    env = VecFrameStack(env, 4, channels_order='last')\n",
    "    model = A2C('CnnPolicy', env, tensorboard_log=LOG_DIR, verbose=0, **model_params)\n",
    "    model.learn(total_timesteps=300000)\n",
    "    mean_reward, _ = evaluate_policy(model, env, n_eval_episodes=10)\n",
    "    env.close()\n",
    "    SAVE_PATH = os.path.join(OPT_DIR, 'trial_{}_best_model'.format(trial.number))\n",
    "    model.save(SAVE_PATH)\n",
    "    return mean_reward\n"
   ]
  },
  {
   "cell_type": "code",
   "execution_count": null,
   "id": "87ff3ab8",
   "metadata": {
    "scrolled": false
   },
   "outputs": [],
   "source": [
    "study = optuna.create_study(direction='maximize')\n",
    "study.optimize(optimize_agent, n_trials=20)"
   ]
  },
  {
   "cell_type": "code",
   "execution_count": null,
   "id": "d2be78d5",
   "metadata": {},
   "outputs": [],
   "source": [
    "# see the best hyperparams\n",
    "study.best_params"
   ]
  },
  {
   "cell_type": "code",
   "execution_count": null,
   "id": "a4190d97",
   "metadata": {},
   "outputs": [],
   "source": [
    "# n-step must be factor of 64 for PPO\n",
    "import math\n",
    "model_params = study.best_params\n",
    "#n_steps_var = math.trunc(model_params[\"n_steps\"]/64)\n",
    "#model_params[\"n_steps\"]=n_steps_var*64"
   ]
  },
  {
   "cell_type": "code",
   "execution_count": null,
   "id": "2a9d04cf",
   "metadata": {
    "scrolled": true
   },
   "outputs": [],
   "source": [
    "model_params={\n",
    "    \"n_steps\": 97,\n",
    "    \"gamma\": 0.9123708231325064,\n",
    "    \"learning_rate\": 1.7586069563249184e-09,\n",
    "    \"gae_lambda\": 0.8103898505539483,\n",
    "    \"ent_coef\": 0.0,\n",
    "    \"vf_coef\": 0.5,\n",
    "    \"max_grad_norm\": 0.5,\n",
    "    \"rms_prop_eps\": 1e-05,\n",
    "}"
   ]
  },
  {
   "cell_type": "markdown",
   "id": "56ef4406",
   "metadata": {},
   "source": [
    "# Setup Callback"
   ]
  },
  {
   "cell_type": "code",
   "execution_count": null,
   "id": "7917600d",
   "metadata": {},
   "outputs": [],
   "source": [
    "from stable_baselines3.common.callbacks import BaseCallback"
   ]
  },
  {
   "cell_type": "code",
   "execution_count": null,
   "id": "b0f1d722",
   "metadata": {},
   "outputs": [],
   "source": [
    "class TrainAndLoggingCallback(BaseCallback):\n",
    "\n",
    "    def __init__(self, check_freq, save_path, verbose=1):\n",
    "        super(TrainAndLoggingCallback, self).__init__(verbose)\n",
    "        self.check_freq = check_freq\n",
    "        self.save_path = save_path\n",
    "\n",
    "    def _init_callback(self):\n",
    "        if self.save_path is not None:\n",
    "            os.makedirs(self.save_path, exist_ok=True)\n",
    "\n",
    "    def _on_step(self):\n",
    "        if self.n_calls % self.check_freq == 0:\n",
    "            model_path = os.path.join(self.save_path, 'best_model_{}'.format(self.n_calls))\n",
    "            self.model.save(model_path)\n",
    "\n",
    "        return True\n",
    "\n"
   ]
  },
  {
   "cell_type": "code",
   "execution_count": null,
   "id": "9bd02796",
   "metadata": {},
   "outputs": [],
   "source": [
    "CHECKPOINT_DIR = \"./train/\""
   ]
  },
  {
   "cell_type": "code",
   "execution_count": null,
   "id": "eb11b097",
   "metadata": {},
   "outputs": [],
   "source": [
    "callback = TrainAndLoggingCallback(check_freq=10000, save_path = CHECKPOINT_DIR)"
   ]
  },
  {
   "cell_type": "code",
   "execution_count": null,
   "id": "95ce57d4",
   "metadata": {},
   "outputs": [],
   "source": [
    "env.close()"
   ]
  },
  {
   "cell_type": "markdown",
   "id": "61e3e047",
   "metadata": {},
   "source": [
    "# Training the Model"
   ]
  },
  {
   "cell_type": "code",
   "execution_count": null,
   "id": "8eda5b5c",
   "metadata": {
    "scrolled": true
   },
   "outputs": [],
   "source": [
    "env = StreetFighter()\n",
    "env = Monitor(env, LOG_DIR)\n",
    "env = DummyVecEnv([lambda: env])\n",
    "env = VecFrameStack(env, 4, channels_order='last')"
   ]
  },
  {
   "cell_type": "code",
   "execution_count": null,
   "id": "797aa85f",
   "metadata": {},
   "outputs": [],
   "source": [
    "model = A2C('CnnPolicy', env, tensorboard_log=LOG_DIR, verbose=1, **model_params)\n"
   ]
  },
  {
   "cell_type": "code",
   "execution_count": null,
   "id": "ab5c4565",
   "metadata": {},
   "outputs": [],
   "source": [
    "model.load(os.path.join(OPT_DIR, \"trial_11_best_model.zip\"))"
   ]
  },
  {
   "cell_type": "code",
   "execution_count": null,
   "id": "44146bda",
   "metadata": {},
   "outputs": [],
   "source": [
    "model.load('./train/best_model_9450000.zip')"
   ]
  },
  {
   "cell_type": "code",
   "execution_count": null,
   "id": "e88636d3",
   "metadata": {
    "scrolled": true
   },
   "outputs": [],
   "source": [
    "model.learn(total_timesteps=10000000, callback=callback)"
   ]
  },
  {
   "cell_type": "code",
   "execution_count": null,
   "id": "c6b21d95",
   "metadata": {},
   "outputs": [],
   "source": [
    "# open tensorboard from the logs folder in terminal\n",
    "# tensorboard --logdir=."
   ]
  },
  {
   "cell_type": "markdown",
   "id": "dfb20de2",
   "metadata": {},
   "source": [
    "# Test the Model"
   ]
  },
  {
   "cell_type": "code",
   "execution_count": null,
   "id": "1424bb17",
   "metadata": {},
   "outputs": [],
   "source": [
    "model = A2C.load('./train/best_model_3000000.zip')"
   ]
  },
  {
   "cell_type": "code",
   "execution_count": null,
   "id": "119554f0",
   "metadata": {},
   "outputs": [],
   "source": [
    "mean_reward, _ = evaluate_policy(model, env, n_eval_episodes=1)"
   ]
  },
  {
   "cell_type": "code",
   "execution_count": null,
   "id": "f02ad51a",
   "metadata": {},
   "outputs": [],
   "source": [
    "env.close()"
   ]
  },
  {
   "cell_type": "code",
   "execution_count": null,
   "id": "a58e32c9",
   "metadata": {},
   "outputs": [],
   "source": [
    "# reset game to starting state \n",
    "obs = env.reset()\n",
    "# flag indicating whether died/finished or not\n",
    "done = False\n",
    "\n",
    "# how many games to play\n",
    "for game in range(1):\n",
    "    # until not dead/finished\n",
    "    while not done:\n",
    "        if done:\n",
    "            obs = env.reset()\n",
    "        env.render()\n",
    "        action = model.predict(obs)[0]\n",
    "        obs, reward, done, info = env.step(action)\n",
    "        # while not done, render our game, and add information to env.step\n",
    "        time.sleep(0.01)\n",
    "\n",
    "\n"
   ]
  }
 ],
 "metadata": {
  "kernelspec": {
   "display_name": "retro_ai",
   "language": "python",
   "name": "retro_ai"
  },
  "language_info": {
   "codemirror_mode": {
    "name": "ipython",
    "version": 3
   },
   "file_extension": ".py",
   "mimetype": "text/x-python",
   "name": "python",
   "nbconvert_exporter": "python",
   "pygments_lexer": "ipython3",
   "version": "3.6.13"
  }
 },
 "nbformat": 4,
 "nbformat_minor": 5
}
